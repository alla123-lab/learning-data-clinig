{
 "cells": [
  {
   "cell_type": "markdown",
   "id": "1e3696bf",
   "metadata": {},
   "source": [
    "# FORMATION DE PYTHON POUR DATA SCIENCE"
   ]
  },
  {
   "cell_type": "raw",
   "id": "d8bc54ca",
   "metadata": {},
   "source": [
    "les operations +/-/*/% "
   ]
  },
  {
   "cell_type": "code",
   "execution_count": 10,
   "id": "694b40ad",
   "metadata": {
    "scrolled": false
   },
   "outputs": [
    {
     "name": "stdout",
     "output_type": "stream",
     "text": [
      "9\n",
      "3\n",
      "10\n",
      "le modolu de 8 par 2 est 4.0\n"
     ]
    }
   ],
   "source": [
    "x=4+5\n",
    "print(x)\n",
    "t=5-2\n",
    "print(t)\n",
    "y=5*2\n",
    "print(y)\n",
    "z=8/2\n",
    "print('le modolu de 8 par 2 est',z)\n"
   ]
  },
  {
   "cell_type": "code",
   "execution_count": 12,
   "id": "ccfc2e78",
   "metadata": {},
   "outputs": [
    {
     "name": "stdout",
     "output_type": "stream",
     "text": [
      "taper un nombre entier  n= 5\n"
     ]
    }
   ],
   "source": [
    "x=int(input(\"taper un nombre entier  n= \"))"
   ]
  },
  {
   "cell_type": "code",
   "execution_count": 13,
   "id": "4df3dc9e",
   "metadata": {},
   "outputs": [
    {
     "name": "stdout",
     "output_type": "stream",
     "text": [
      "5\n"
     ]
    }
   ],
   "source": [
    "print(x)"
   ]
  },
  {
   "cell_type": "code",
   "execution_count": null,
   "id": "d2dfb6cb",
   "metadata": {},
   "outputs": [],
   "source": []
  },
  {
   "cell_type": "code",
   "execution_count": null,
   "id": "e51d956f",
   "metadata": {},
   "outputs": [],
   "source": []
  },
  {
   "cell_type": "code",
   "execution_count": null,
   "id": "347d9876",
   "metadata": {},
   "outputs": [],
   "source": []
  }
 ],
 "metadata": {
  "kernelspec": {
   "display_name": "Python 3 (ipykernel)",
   "language": "python",
   "name": "python3"
  },
  "language_info": {
   "codemirror_mode": {
    "name": "ipython",
    "version": 3
   },
   "file_extension": ".py",
   "mimetype": "text/x-python",
   "name": "python",
   "nbconvert_exporter": "python",
   "pygments_lexer": "ipython3",
   "version": "3.9.7"
  }
 },
 "nbformat": 4,
 "nbformat_minor": 5
}
